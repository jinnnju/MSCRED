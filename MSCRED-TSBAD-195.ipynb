{
 "cells": [
  {
   "cell_type": "markdown",
   "id": "7be7c1ef-ebe4-4c4d-b2a5-9e310e48c370",
   "metadata": {},
   "source": [
    "### Data load"
   ]
  },
  {
   "cell_type": "code",
   "execution_count": 1,
   "id": "260f7654-8b22-4ae7-9ac0-0e19a8418916",
   "metadata": {},
   "outputs": [
    {
     "data": {
      "text/html": [
       "<div>\n",
       "<style scoped>\n",
       "    .dataframe tbody tr th:only-of-type {\n",
       "        vertical-align: middle;\n",
       "    }\n",
       "\n",
       "    .dataframe tbody tr th {\n",
       "        vertical-align: top;\n",
       "    }\n",
       "\n",
       "    .dataframe thead th {\n",
       "        text-align: right;\n",
       "    }\n",
       "</style>\n",
       "<table border=\"1\" class=\"dataframe\">\n",
       "  <thead>\n",
       "    <tr style=\"text-align: right;\">\n",
       "      <th></th>\n",
       "      <th>1_executor_threadpool_activeTasks_value</th>\n",
       "      <th>1_jvm_heap_max_value</th>\n",
       "      <th>1_jvm_pools_PS-Eden-Space_committed_value</th>\n",
       "      <th>1_jvm_pools_PS-Eden-Space_max_value</th>\n",
       "      <th>1_jvm_pools_PS-Eden-Space_usage_value</th>\n",
       "      <th>1_jvm_pools_PS-Survivor-Space_usage_value</th>\n",
       "      <th>2_executor_threadpool_activeTasks_value</th>\n",
       "      <th>2_jvm_heap_committed_value</th>\n",
       "      <th>2_jvm_heap_max_value</th>\n",
       "      <th>2_jvm_heap_usage_value</th>\n",
       "      <th>...</th>\n",
       "      <th>node8_CPU015_Idle%</th>\n",
       "      <th>node8_CPU015_Sys%</th>\n",
       "      <th>node8_CPU015_User%</th>\n",
       "      <th>node8_CPU_ALL_Sys%</th>\n",
       "      <th>node8_CPU_ALL_User%</th>\n",
       "      <th>node8_NETPACKET_ib0-write/s</th>\n",
       "      <th>node8_NET_ib0-read-KB/s</th>\n",
       "      <th>node8_PROC_pswitch</th>\n",
       "      <th>node8_VM_pgalloc_normal</th>\n",
       "      <th>Label</th>\n",
       "    </tr>\n",
       "  </thead>\n",
       "  <tbody>\n",
       "    <tr>\n",
       "      <th>0</th>\n",
       "      <td>-1.0</td>\n",
       "      <td>-1.000000e+00</td>\n",
       "      <td>-1.000000e+00</td>\n",
       "      <td>-1.000000e+00</td>\n",
       "      <td>-1.000000</td>\n",
       "      <td>-1.000000</td>\n",
       "      <td>-1.0</td>\n",
       "      <td>-1.000000e+00</td>\n",
       "      <td>-1.000000e+00</td>\n",
       "      <td>-1.000000</td>\n",
       "      <td>...</td>\n",
       "      <td>96.0</td>\n",
       "      <td>0.0</td>\n",
       "      <td>4.0</td>\n",
       "      <td>0.5</td>\n",
       "      <td>4.8</td>\n",
       "      <td>25.9</td>\n",
       "      <td>2.9</td>\n",
       "      <td>23741.2</td>\n",
       "      <td>50353.0</td>\n",
       "      <td>0</td>\n",
       "    </tr>\n",
       "    <tr>\n",
       "      <th>1</th>\n",
       "      <td>-1.0</td>\n",
       "      <td>-1.000000e+00</td>\n",
       "      <td>-1.000000e+00</td>\n",
       "      <td>-1.000000e+00</td>\n",
       "      <td>-1.000000</td>\n",
       "      <td>-1.000000</td>\n",
       "      <td>-1.0</td>\n",
       "      <td>-1.000000e+00</td>\n",
       "      <td>-1.000000e+00</td>\n",
       "      <td>-1.000000</td>\n",
       "      <td>...</td>\n",
       "      <td>94.0</td>\n",
       "      <td>0.0</td>\n",
       "      <td>6.0</td>\n",
       "      <td>0.6</td>\n",
       "      <td>5.3</td>\n",
       "      <td>14.0</td>\n",
       "      <td>1.9</td>\n",
       "      <td>13408.6</td>\n",
       "      <td>115029.0</td>\n",
       "      <td>0</td>\n",
       "    </tr>\n",
       "    <tr>\n",
       "      <th>2</th>\n",
       "      <td>0.0</td>\n",
       "      <td>7.635730e+09</td>\n",
       "      <td>5.373952e+08</td>\n",
       "      <td>2.684879e+09</td>\n",
       "      <td>0.069621</td>\n",
       "      <td>0.000000</td>\n",
       "      <td>-1.0</td>\n",
       "      <td>-1.000000e+00</td>\n",
       "      <td>-1.000000e+00</td>\n",
       "      <td>-1.000000</td>\n",
       "      <td>...</td>\n",
       "      <td>100.0</td>\n",
       "      <td>0.0</td>\n",
       "      <td>0.0</td>\n",
       "      <td>0.1</td>\n",
       "      <td>0.3</td>\n",
       "      <td>7.0</td>\n",
       "      <td>0.5</td>\n",
       "      <td>2828.8</td>\n",
       "      <td>785.0</td>\n",
       "      <td>0</td>\n",
       "    </tr>\n",
       "    <tr>\n",
       "      <th>3</th>\n",
       "      <td>0.0</td>\n",
       "      <td>7.635730e+09</td>\n",
       "      <td>5.373952e+08</td>\n",
       "      <td>2.684879e+09</td>\n",
       "      <td>0.070958</td>\n",
       "      <td>0.000000</td>\n",
       "      <td>0.0</td>\n",
       "      <td>1.533018e+09</td>\n",
       "      <td>7.635730e+09</td>\n",
       "      <td>0.028567</td>\n",
       "      <td>...</td>\n",
       "      <td>100.0</td>\n",
       "      <td>0.0</td>\n",
       "      <td>0.0</td>\n",
       "      <td>0.0</td>\n",
       "      <td>0.1</td>\n",
       "      <td>6.0</td>\n",
       "      <td>0.7</td>\n",
       "      <td>1310.7</td>\n",
       "      <td>118.0</td>\n",
       "      <td>0</td>\n",
       "    </tr>\n",
       "    <tr>\n",
       "      <th>4</th>\n",
       "      <td>3.0</td>\n",
       "      <td>7.635730e+09</td>\n",
       "      <td>5.373952e+08</td>\n",
       "      <td>2.684879e+09</td>\n",
       "      <td>0.083218</td>\n",
       "      <td>0.000000</td>\n",
       "      <td>3.0</td>\n",
       "      <td>1.533018e+09</td>\n",
       "      <td>7.635730e+09</td>\n",
       "      <td>0.033346</td>\n",
       "      <td>...</td>\n",
       "      <td>100.0</td>\n",
       "      <td>0.0</td>\n",
       "      <td>0.0</td>\n",
       "      <td>0.5</td>\n",
       "      <td>1.4</td>\n",
       "      <td>4.0</td>\n",
       "      <td>0.4</td>\n",
       "      <td>27200.7</td>\n",
       "      <td>29489.0</td>\n",
       "      <td>0</td>\n",
       "    </tr>\n",
       "    <tr>\n",
       "      <th>...</th>\n",
       "      <td>...</td>\n",
       "      <td>...</td>\n",
       "      <td>...</td>\n",
       "      <td>...</td>\n",
       "      <td>...</td>\n",
       "      <td>...</td>\n",
       "      <td>...</td>\n",
       "      <td>...</td>\n",
       "      <td>...</td>\n",
       "      <td>...</td>\n",
       "      <td>...</td>\n",
       "      <td>...</td>\n",
       "      <td>...</td>\n",
       "      <td>...</td>\n",
       "      <td>...</td>\n",
       "      <td>...</td>\n",
       "      <td>...</td>\n",
       "      <td>...</td>\n",
       "      <td>...</td>\n",
       "      <td>...</td>\n",
       "      <td>...</td>\n",
       "    </tr>\n",
       "    <tr>\n",
       "      <th>43061</th>\n",
       "      <td>3.0</td>\n",
       "      <td>8.204583e+09</td>\n",
       "      <td>2.074608e+09</td>\n",
       "      <td>2.074608e+09</td>\n",
       "      <td>0.360998</td>\n",
       "      <td>0.415096</td>\n",
       "      <td>3.0</td>\n",
       "      <td>8.294760e+09</td>\n",
       "      <td>8.294760e+09</td>\n",
       "      <td>0.705279</td>\n",
       "      <td>...</td>\n",
       "      <td>80.2</td>\n",
       "      <td>0.0</td>\n",
       "      <td>19.8</td>\n",
       "      <td>0.3</td>\n",
       "      <td>9.7</td>\n",
       "      <td>974.5</td>\n",
       "      <td>39273.7</td>\n",
       "      <td>16749.2</td>\n",
       "      <td>25532.0</td>\n",
       "      <td>1</td>\n",
       "    </tr>\n",
       "    <tr>\n",
       "      <th>43062</th>\n",
       "      <td>3.0</td>\n",
       "      <td>7.937196e+09</td>\n",
       "      <td>2.074608e+09</td>\n",
       "      <td>2.352480e+09</td>\n",
       "      <td>0.848696</td>\n",
       "      <td>0.998915</td>\n",
       "      <td>3.0</td>\n",
       "      <td>8.319402e+09</td>\n",
       "      <td>8.319402e+09</td>\n",
       "      <td>0.822731</td>\n",
       "      <td>...</td>\n",
       "      <td>73.5</td>\n",
       "      <td>1.0</td>\n",
       "      <td>25.5</td>\n",
       "      <td>0.3</td>\n",
       "      <td>13.2</td>\n",
       "      <td>1464.5</td>\n",
       "      <td>32557.6</td>\n",
       "      <td>15519.7</td>\n",
       "      <td>33887.0</td>\n",
       "      <td>1</td>\n",
       "    </tr>\n",
       "    <tr>\n",
       "      <th>43063</th>\n",
       "      <td>1.0</td>\n",
       "      <td>8.189379e+09</td>\n",
       "      <td>2.087715e+09</td>\n",
       "      <td>2.126512e+09</td>\n",
       "      <td>0.911851</td>\n",
       "      <td>0.387403</td>\n",
       "      <td>2.0</td>\n",
       "      <td>8.121221e+09</td>\n",
       "      <td>8.121221e+09</td>\n",
       "      <td>0.450716</td>\n",
       "      <td>...</td>\n",
       "      <td>72.3</td>\n",
       "      <td>2.1</td>\n",
       "      <td>25.5</td>\n",
       "      <td>0.3</td>\n",
       "      <td>5.9</td>\n",
       "      <td>1858.2</td>\n",
       "      <td>65116.2</td>\n",
       "      <td>17215.0</td>\n",
       "      <td>37882.0</td>\n",
       "      <td>1</td>\n",
       "    </tr>\n",
       "    <tr>\n",
       "      <th>43064</th>\n",
       "      <td>1.0</td>\n",
       "      <td>8.176271e+09</td>\n",
       "      <td>2.087715e+09</td>\n",
       "      <td>2.117599e+09</td>\n",
       "      <td>0.197564</td>\n",
       "      <td>0.793149</td>\n",
       "      <td>1.0</td>\n",
       "      <td>8.121221e+09</td>\n",
       "      <td>8.121221e+09</td>\n",
       "      <td>0.484818</td>\n",
       "      <td>...</td>\n",
       "      <td>70.1</td>\n",
       "      <td>3.1</td>\n",
       "      <td>26.8</td>\n",
       "      <td>0.3</td>\n",
       "      <td>1.6</td>\n",
       "      <td>1427.0</td>\n",
       "      <td>39003.0</td>\n",
       "      <td>16681.8</td>\n",
       "      <td>28801.0</td>\n",
       "      <td>1</td>\n",
       "    </tr>\n",
       "    <tr>\n",
       "      <th>43065</th>\n",
       "      <td>3.0</td>\n",
       "      <td>8.195670e+09</td>\n",
       "      <td>2.085093e+09</td>\n",
       "      <td>2.090336e+09</td>\n",
       "      <td>0.019695</td>\n",
       "      <td>0.667296</td>\n",
       "      <td>3.0</td>\n",
       "      <td>8.121221e+09</td>\n",
       "      <td>8.121221e+09</td>\n",
       "      <td>0.583075</td>\n",
       "      <td>...</td>\n",
       "      <td>77.1</td>\n",
       "      <td>1.0</td>\n",
       "      <td>21.9</td>\n",
       "      <td>0.2</td>\n",
       "      <td>8.8</td>\n",
       "      <td>1526.5</td>\n",
       "      <td>32554.4</td>\n",
       "      <td>17594.3</td>\n",
       "      <td>39021.0</td>\n",
       "      <td>1</td>\n",
       "    </tr>\n",
       "  </tbody>\n",
       "</table>\n",
       "<p>43066 rows × 32 columns</p>\n",
       "</div>"
      ],
      "text/plain": [
       "       1_executor_threadpool_activeTasks_value  1_jvm_heap_max_value  \\\n",
       "0                                         -1.0         -1.000000e+00   \n",
       "1                                         -1.0         -1.000000e+00   \n",
       "2                                          0.0          7.635730e+09   \n",
       "3                                          0.0          7.635730e+09   \n",
       "4                                          3.0          7.635730e+09   \n",
       "...                                        ...                   ...   \n",
       "43061                                      3.0          8.204583e+09   \n",
       "43062                                      3.0          7.937196e+09   \n",
       "43063                                      1.0          8.189379e+09   \n",
       "43064                                      1.0          8.176271e+09   \n",
       "43065                                      3.0          8.195670e+09   \n",
       "\n",
       "       1_jvm_pools_PS-Eden-Space_committed_value  \\\n",
       "0                                  -1.000000e+00   \n",
       "1                                  -1.000000e+00   \n",
       "2                                   5.373952e+08   \n",
       "3                                   5.373952e+08   \n",
       "4                                   5.373952e+08   \n",
       "...                                          ...   \n",
       "43061                               2.074608e+09   \n",
       "43062                               2.074608e+09   \n",
       "43063                               2.087715e+09   \n",
       "43064                               2.087715e+09   \n",
       "43065                               2.085093e+09   \n",
       "\n",
       "       1_jvm_pools_PS-Eden-Space_max_value  \\\n",
       "0                            -1.000000e+00   \n",
       "1                            -1.000000e+00   \n",
       "2                             2.684879e+09   \n",
       "3                             2.684879e+09   \n",
       "4                             2.684879e+09   \n",
       "...                                    ...   \n",
       "43061                         2.074608e+09   \n",
       "43062                         2.352480e+09   \n",
       "43063                         2.126512e+09   \n",
       "43064                         2.117599e+09   \n",
       "43065                         2.090336e+09   \n",
       "\n",
       "       1_jvm_pools_PS-Eden-Space_usage_value  \\\n",
       "0                                  -1.000000   \n",
       "1                                  -1.000000   \n",
       "2                                   0.069621   \n",
       "3                                   0.070958   \n",
       "4                                   0.083218   \n",
       "...                                      ...   \n",
       "43061                               0.360998   \n",
       "43062                               0.848696   \n",
       "43063                               0.911851   \n",
       "43064                               0.197564   \n",
       "43065                               0.019695   \n",
       "\n",
       "       1_jvm_pools_PS-Survivor-Space_usage_value  \\\n",
       "0                                      -1.000000   \n",
       "1                                      -1.000000   \n",
       "2                                       0.000000   \n",
       "3                                       0.000000   \n",
       "4                                       0.000000   \n",
       "...                                          ...   \n",
       "43061                                   0.415096   \n",
       "43062                                   0.998915   \n",
       "43063                                   0.387403   \n",
       "43064                                   0.793149   \n",
       "43065                                   0.667296   \n",
       "\n",
       "       2_executor_threadpool_activeTasks_value  2_jvm_heap_committed_value  \\\n",
       "0                                         -1.0               -1.000000e+00   \n",
       "1                                         -1.0               -1.000000e+00   \n",
       "2                                         -1.0               -1.000000e+00   \n",
       "3                                          0.0                1.533018e+09   \n",
       "4                                          3.0                1.533018e+09   \n",
       "...                                        ...                         ...   \n",
       "43061                                      3.0                8.294760e+09   \n",
       "43062                                      3.0                8.319402e+09   \n",
       "43063                                      2.0                8.121221e+09   \n",
       "43064                                      1.0                8.121221e+09   \n",
       "43065                                      3.0                8.121221e+09   \n",
       "\n",
       "       2_jvm_heap_max_value  2_jvm_heap_usage_value  ...  node8_CPU015_Idle%  \\\n",
       "0             -1.000000e+00               -1.000000  ...                96.0   \n",
       "1             -1.000000e+00               -1.000000  ...                94.0   \n",
       "2             -1.000000e+00               -1.000000  ...               100.0   \n",
       "3              7.635730e+09                0.028567  ...               100.0   \n",
       "4              7.635730e+09                0.033346  ...               100.0   \n",
       "...                     ...                     ...  ...                 ...   \n",
       "43061          8.294760e+09                0.705279  ...                80.2   \n",
       "43062          8.319402e+09                0.822731  ...                73.5   \n",
       "43063          8.121221e+09                0.450716  ...                72.3   \n",
       "43064          8.121221e+09                0.484818  ...                70.1   \n",
       "43065          8.121221e+09                0.583075  ...                77.1   \n",
       "\n",
       "       node8_CPU015_Sys%  node8_CPU015_User%  node8_CPU_ALL_Sys%  \\\n",
       "0                    0.0                 4.0                 0.5   \n",
       "1                    0.0                 6.0                 0.6   \n",
       "2                    0.0                 0.0                 0.1   \n",
       "3                    0.0                 0.0                 0.0   \n",
       "4                    0.0                 0.0                 0.5   \n",
       "...                  ...                 ...                 ...   \n",
       "43061                0.0                19.8                 0.3   \n",
       "43062                1.0                25.5                 0.3   \n",
       "43063                2.1                25.5                 0.3   \n",
       "43064                3.1                26.8                 0.3   \n",
       "43065                1.0                21.9                 0.2   \n",
       "\n",
       "       node8_CPU_ALL_User%  node8_NETPACKET_ib0-write/s  \\\n",
       "0                      4.8                         25.9   \n",
       "1                      5.3                         14.0   \n",
       "2                      0.3                          7.0   \n",
       "3                      0.1                          6.0   \n",
       "4                      1.4                          4.0   \n",
       "...                    ...                          ...   \n",
       "43061                  9.7                        974.5   \n",
       "43062                 13.2                       1464.5   \n",
       "43063                  5.9                       1858.2   \n",
       "43064                  1.6                       1427.0   \n",
       "43065                  8.8                       1526.5   \n",
       "\n",
       "       node8_NET_ib0-read-KB/s  node8_PROC_pswitch  node8_VM_pgalloc_normal  \\\n",
       "0                          2.9             23741.2                  50353.0   \n",
       "1                          1.9             13408.6                 115029.0   \n",
       "2                          0.5              2828.8                    785.0   \n",
       "3                          0.7              1310.7                    118.0   \n",
       "4                          0.4             27200.7                  29489.0   \n",
       "...                        ...                 ...                      ...   \n",
       "43061                  39273.7             16749.2                  25532.0   \n",
       "43062                  32557.6             15519.7                  33887.0   \n",
       "43063                  65116.2             17215.0                  37882.0   \n",
       "43064                  39003.0             16681.8                  28801.0   \n",
       "43065                  32554.4             17594.3                  39021.0   \n",
       "\n",
       "       Label  \n",
       "0          0  \n",
       "1          0  \n",
       "2          0  \n",
       "3          0  \n",
       "4          0  \n",
       "...      ...  \n",
       "43061      1  \n",
       "43062      1  \n",
       "43063      1  \n",
       "43064      1  \n",
       "43065      1  \n",
       "\n",
       "[43066 rows x 32 columns]"
      ]
     },
     "execution_count": 1,
     "metadata": {},
     "output_type": "execute_result"
    }
   ],
   "source": [
    "import pandas as pd\n",
    "file_path = './data/195_Exathlon_id_22_Facility_tr_10766_1st_12590.csv'\n",
    "df = pd.read_csv(file_path)\n",
    "\n",
    "df"
   ]
  },
  {
   "cell_type": "code",
   "execution_count": 2,
   "id": "a23813f1-547a-4ff9-9869-e8d23d7cda8b",
   "metadata": {},
   "outputs": [
    {
     "name": "stderr",
     "output_type": "stream",
     "text": [
      "100%|██████████| 9630/9630 [00:16<00:00, 591.58it/s]\n",
      "100%|██████████| 1018/1018 [00:01<00:00, 602.49it/s]\n",
      "100%|██████████| 32241/32241 [00:54<00:00, 592.71it/s]\n"
     ]
    }
   ],
   "source": [
    "import seaborn as sns\n",
    "import matplotlib.pyplot as plt\n",
    "from sklearn.preprocessing import StandardScaler\n",
    "import torch\n",
    "import os\n",
    "import pandas as pd\n",
    "import re\n",
    "import numpy as np\n",
    "import matplotlib.pyplot as plt\n",
    "from tqdm import tqdm\n",
    "import joblib\n",
    "from torch import nn, optim\n",
    "from torch.utils.data import DataLoader, TensorDataset\n",
    "from mscred.utils import *\n",
    "from mscred.mscred import MSCRED\n",
    "\n",
    "\n",
    "train_end_idx = 10766\n",
    "val_start_idx = int(train_end_idx * 0.9)\n",
    "\n",
    "\n",
    "label_column = df.columns[-1]\n",
    "labels = df[label_column]\n",
    "data = df.drop(columns=[label_column])\n",
    "\n",
    "\n",
    "train_data = data.iloc[:val_start_idx]\n",
    "val_data = data.iloc[val_start_idx:train_end_idx]\n",
    "test_data = data.iloc[train_end_idx:]\n",
    "test_labels = labels.iloc[train_end_idx:]\n",
    "\n",
    "scaler = StandardScaler()\n",
    "train_slice = scaler.fit_transform(train_data.values)\n",
    "scaler_path = \"scaler.pkl\"\n",
    "joblib.dump(scaler, scaler_path)  # scaler 저장\n",
    "\n",
    "X, y = calculate_signature_matrix_dataset(train_slice, lags=[10, 30, 60], stride=1, num_timesteps=5)\n",
    "X = X.transpose(0, 4, 1, 2, 3)\n",
    "y = y.transpose(0, 3, 1, 2)\n",
    "X_train = torch.Tensor(X)\n",
    "y_train = torch.Tensor(y)\n",
    "\n",
    "val_slice = scaler.transform(val_data.values)\n",
    "X, y = calculate_signature_matrix_dataset(val_slice, lags=[10, 30, 60], stride=1, num_timesteps=5)\n",
    "X = X.transpose(0, 4, 1, 2, 3)\n",
    "y = y.transpose(0, 3, 1, 2)\n",
    "X_val = torch.Tensor(X)\n",
    "y_val = torch.Tensor(y)\n",
    "\n",
    "\n",
    "test_slice = scaler.transform(test_data.values)\n",
    "X, y = calculate_signature_matrix_dataset(test_slice, lags=[10, 30, 60], stride=1, num_timesteps=5)\n",
    "X = X.transpose(0, 4, 1, 2, 3)\n",
    "y = y.transpose(0, 3, 1, 2)\n",
    "X_test = torch.Tensor(X)\n",
    "y_test = torch.Tensor(y)\n",
    "test_labels = torch.Tensor(test_labels.values)\n",
    "\n",
    "\n",
    "train_loader = DataLoader(TensorDataset(X_train, y_train), batch_size=64, shuffle=True)\n",
    "val_loader = DataLoader(TensorDataset(X_val, y_val), batch_size=64, shuffle=False)\n",
    "test_loader = DataLoader(TensorDataset(X_test, y_test), batch_size=64, shuffle=False)\n",
    "\n"
   ]
  },
  {
   "cell_type": "code",
   "execution_count": 3,
   "id": "5e1c94e8-0146-477a-b4cb-029cd10d6ab3",
   "metadata": {},
   "outputs": [
    {
     "name": "stdout",
     "output_type": "stream",
     "text": [
      "Train Loader Shapes:\n",
      "X: torch.Size([64, 3, 5, 31, 31]), y: torch.Size([64, 3, 31, 31])\n",
      "\n",
      "Validation Loader Shapes:\n",
      "X: torch.Size([64, 3, 5, 31, 31]), y: torch.Size([64, 3, 31, 31])\n",
      "\n",
      "Test Loader Shapes:\n",
      "X: torch.Size([64, 3, 5, 31, 31]), y: torch.Size([64, 3, 31, 31])\n",
      "\n",
      "Test Labels Shape:\n",
      "torch.Size([32300])\n"
     ]
    }
   ],
   "source": [
    "\n",
    "print(\"Train Loader Shapes:\")\n",
    "for X_batch, y_batch in train_loader:\n",
    "    print(f\"X: {X_batch.shape}, y: {y_batch.shape}\")\n",
    "    break\n",
    "\n",
    "print(\"\\nValidation Loader Shapes:\")\n",
    "for X_batch, y_batch in val_loader:\n",
    "    print(f\"X: {X_batch.shape}, y: {y_batch.shape}\")\n",
    "    break\n",
    "\n",
    "print(\"\\nTest Loader Shapes:\")\n",
    "for X_batch, y_batch in test_loader:\n",
    "    print(f\"X: {X_batch.shape}, y: {y_batch.shape}\")\n",
    "    break\n",
    "\n",
    "print(\"\\nTest Labels Shape:\")\n",
    "print(test_labels.shape)"
   ]
  },
  {
   "cell_type": "markdown",
   "id": "ad1e6b2e-38fa-42b5-bd99-eb33940af5d6",
   "metadata": {},
   "source": [
    "### Train"
   ]
  },
  {
   "cell_type": "code",
   "execution_count": 4,
   "id": "7189769e-5e3e-4e27-ab72-81bfd6bb580f",
   "metadata": {},
   "outputs": [
    {
     "name": "stderr",
     "output_type": "stream",
     "text": [
      "100%|██████████| 151/151 [00:08<00:00, 18.57it/s]\n"
     ]
    },
    {
     "name": "stdout",
     "output_type": "stream",
     "text": [
      "Epoch 1, Train Loss: 0.48894011545062854, Validation Loss: 0.5388513668440282\n"
     ]
    },
    {
     "name": "stderr",
     "output_type": "stream",
     "text": [
      "100%|██████████| 151/151 [00:07<00:00, 18.90it/s]\n"
     ]
    },
    {
     "name": "stdout",
     "output_type": "stream",
     "text": [
      "Epoch 2, Train Loss: 0.17310954632841988, Validation Loss: 0.431970689445734\n"
     ]
    },
    {
     "name": "stderr",
     "output_type": "stream",
     "text": [
      "100%|██████████| 151/151 [00:07<00:00, 18.92it/s]\n"
     ]
    },
    {
     "name": "stdout",
     "output_type": "stream",
     "text": [
      "Epoch 3, Train Loss: 0.11823679959487836, Validation Loss: 0.35321284737437963\n"
     ]
    },
    {
     "name": "stderr",
     "output_type": "stream",
     "text": [
      "100%|██████████| 151/151 [00:08<00:00, 18.71it/s]\n"
     ]
    },
    {
     "name": "stdout",
     "output_type": "stream",
     "text": [
      "Epoch 4, Train Loss: 0.09923975381827513, Validation Loss: 0.3432843266054988\n"
     ]
    },
    {
     "name": "stderr",
     "output_type": "stream",
     "text": [
      "100%|██████████| 151/151 [00:07<00:00, 18.97it/s]\n"
     ]
    },
    {
     "name": "stdout",
     "output_type": "stream",
     "text": [
      "Epoch 5, Train Loss: 0.08791451884544646, Validation Loss: 0.3167004492133856\n"
     ]
    },
    {
     "name": "stderr",
     "output_type": "stream",
     "text": [
      "100%|██████████| 151/151 [00:08<00:00, 18.21it/s]\n"
     ]
    },
    {
     "name": "stdout",
     "output_type": "stream",
     "text": [
      "Epoch 6, Train Loss: 0.0747163775716199, Validation Loss: 0.302486922359094\n"
     ]
    },
    {
     "name": "stderr",
     "output_type": "stream",
     "text": [
      "100%|██████████| 151/151 [00:07<00:00, 18.94it/s]\n"
     ]
    },
    {
     "name": "stdout",
     "output_type": "stream",
     "text": [
      "Epoch 7, Train Loss: 0.08281613676037812, Validation Loss: 0.29614625545218587\n"
     ]
    },
    {
     "name": "stderr",
     "output_type": "stream",
     "text": [
      "100%|██████████| 151/151 [00:08<00:00, 18.67it/s]\n"
     ]
    },
    {
     "name": "stdout",
     "output_type": "stream",
     "text": [
      "Epoch 8, Train Loss: 0.06271596272963266, Validation Loss: 0.25112713570706546\n"
     ]
    },
    {
     "name": "stderr",
     "output_type": "stream",
     "text": [
      "100%|██████████| 151/151 [00:07<00:00, 18.94it/s]\n"
     ]
    },
    {
     "name": "stdout",
     "output_type": "stream",
     "text": [
      "Epoch 9, Train Loss: 0.05851170020979761, Validation Loss: 0.2622740585356951\n"
     ]
    },
    {
     "name": "stderr",
     "output_type": "stream",
     "text": [
      "100%|██████████| 151/151 [00:07<00:00, 18.93it/s]\n"
     ]
    },
    {
     "name": "stdout",
     "output_type": "stream",
     "text": [
      "Epoch 10, Train Loss: 0.1317367937896919, Validation Loss: 0.3494229447096586\n"
     ]
    },
    {
     "name": "stderr",
     "output_type": "stream",
     "text": [
      "100%|██████████| 151/151 [00:07<00:00, 19.00it/s]\n"
     ]
    },
    {
     "name": "stdout",
     "output_type": "stream",
     "text": [
      "Epoch 11, Train Loss: 0.07966741915200128, Validation Loss: 0.27563630254007876\n"
     ]
    },
    {
     "name": "stderr",
     "output_type": "stream",
     "text": [
      "100%|██████████| 151/151 [00:08<00:00, 18.79it/s]\n"
     ]
    },
    {
     "name": "stdout",
     "output_type": "stream",
     "text": [
      "Epoch 12, Train Loss: 0.06437621207056654, Validation Loss: 0.25669436948373914\n"
     ]
    },
    {
     "name": "stderr",
     "output_type": "stream",
     "text": [
      "100%|██████████| 151/151 [00:08<00:00, 18.58it/s]\n"
     ]
    },
    {
     "name": "stdout",
     "output_type": "stream",
     "text": [
      "Epoch 13, Train Loss: 0.05703055951435933, Validation Loss: 0.24350607907399535\n"
     ]
    },
    {
     "name": "stderr",
     "output_type": "stream",
     "text": [
      "100%|██████████| 151/151 [00:07<00:00, 18.89it/s]\n"
     ]
    },
    {
     "name": "stdout",
     "output_type": "stream",
     "text": [
      "Epoch 14, Train Loss: 0.05444248644820112, Validation Loss: 0.24107891274616122\n"
     ]
    },
    {
     "name": "stderr",
     "output_type": "stream",
     "text": [
      "100%|██████████| 151/151 [00:07<00:00, 18.89it/s]\n"
     ]
    },
    {
     "name": "stdout",
     "output_type": "stream",
     "text": [
      "Epoch 15, Train Loss: 0.071328464358897, Validation Loss: 0.2896567687857896\n"
     ]
    },
    {
     "name": "stderr",
     "output_type": "stream",
     "text": [
      "100%|██████████| 151/151 [00:08<00:00, 18.77it/s]\n"
     ]
    },
    {
     "name": "stdout",
     "output_type": "stream",
     "text": [
      "Epoch 16, Train Loss: 0.06042941808022115, Validation Loss: 0.2290394597221166\n"
     ]
    },
    {
     "name": "stderr",
     "output_type": "stream",
     "text": [
      "100%|██████████| 151/151 [00:08<00:00, 18.87it/s]\n"
     ]
    },
    {
     "name": "stdout",
     "output_type": "stream",
     "text": [
      "Epoch 17, Train Loss: 0.05369982556039036, Validation Loss: 0.22359079425223172\n"
     ]
    },
    {
     "name": "stderr",
     "output_type": "stream",
     "text": [
      "100%|██████████| 151/151 [00:07<00:00, 18.95it/s]\n"
     ]
    },
    {
     "name": "stdout",
     "output_type": "stream",
     "text": [
      "Epoch 18, Train Loss: 0.05192465542056999, Validation Loss: 0.22509598918259144\n"
     ]
    },
    {
     "name": "stderr",
     "output_type": "stream",
     "text": [
      "100%|██████████| 151/151 [00:07<00:00, 18.99it/s]\n"
     ]
    },
    {
     "name": "stdout",
     "output_type": "stream",
     "text": [
      "Epoch 19, Train Loss: 0.04971070246252891, Validation Loss: 0.21588114299811423\n"
     ]
    },
    {
     "name": "stderr",
     "output_type": "stream",
     "text": [
      "100%|██████████| 151/151 [00:08<00:00, 18.21it/s]\n"
     ]
    },
    {
     "name": "stdout",
     "output_type": "stream",
     "text": [
      "Epoch 20, Train Loss: 0.07767183917408056, Validation Loss: 0.24428204423747957\n"
     ]
    },
    {
     "name": "stderr",
     "output_type": "stream",
     "text": [
      "100%|██████████| 151/151 [00:08<00:00, 18.58it/s]\n"
     ]
    },
    {
     "name": "stdout",
     "output_type": "stream",
     "text": [
      "Epoch 21, Train Loss: 0.053658972589903514, Validation Loss: 0.22689224011264741\n"
     ]
    },
    {
     "name": "stderr",
     "output_type": "stream",
     "text": [
      "100%|██████████| 151/151 [00:07<00:00, 18.96it/s]\n"
     ]
    },
    {
     "name": "stdout",
     "output_type": "stream",
     "text": [
      "Epoch 22, Train Loss: 0.06426344053289354, Validation Loss: 0.2323953330051154\n"
     ]
    },
    {
     "name": "stderr",
     "output_type": "stream",
     "text": [
      "100%|██████████| 151/151 [00:07<00:00, 18.94it/s]\n"
     ]
    },
    {
     "name": "stdout",
     "output_type": "stream",
     "text": [
      "Epoch 23, Train Loss: 0.05984875007489363, Validation Loss: 0.27035156241618097\n"
     ]
    },
    {
     "name": "stderr",
     "output_type": "stream",
     "text": [
      "100%|██████████| 151/151 [00:08<00:00, 18.68it/s]\n"
     ]
    },
    {
     "name": "stdout",
     "output_type": "stream",
     "text": [
      "Epoch 24, Train Loss: 0.05352725842289183, Validation Loss: 0.225657032802701\n"
     ]
    },
    {
     "data": {
      "image/png": "[encoded data removed]",
      "text/plain": [
       "<Figure size 640x480 with 1 Axes>"
      ]
     },
     "metadata": {},
     "output_type": "display_data"
    }
   ],
   "source": [
    "model_path = './weights/weights_mscred.pt'\n",
    "model = MSCRED(num_timesteps=5, attention=True).cuda()\n",
    "optimizer = optim.Adam(model.parameters(), lr=0.001)\n",
    "scheduler = optim.lr_scheduler.StepLR(optimizer, step_size=10, gamma=0.8)\n",
    "criterion = nn.MSELoss()\n",
    "best_loss = float('inf')\n",
    "train_losses, val_losses = [], []\n",
    "j = 0  # Early stopping counter\n",
    "\n",
    "early_stop_rounds = 5\n",
    "for epoch in range(50):\n",
    "    if j >= early_stop_rounds:\n",
    "        break\n",
    "\n",
    "    train_loss = 0.0\n",
    "    val_loss = 0.0\n",
    "\n",
    "   \n",
    "    model.train()\n",
    "    for batch_x, batch_y in tqdm(train_loader):\n",
    "        batch_x, batch_y = batch_x.cuda(), batch_y.cuda()\n",
    "        optimizer.zero_grad()\n",
    "        output = model(batch_x)\n",
    "        loss = criterion(output, batch_y)\n",
    "        loss.backward()\n",
    "        optimizer.step()\n",
    "        train_loss += loss.item()\n",
    "\n",
    "\n",
    "    model.eval()\n",
    "    with torch.no_grad():\n",
    "        for batch_x, batch_y in val_loader:\n",
    "            batch_x, batch_y = batch_x.cuda(), batch_y.cuda()\n",
    "            output = model(batch_x)\n",
    "            loss = criterion(output, batch_y)\n",
    "            val_loss += loss.item()\n",
    "\n",
    "   \n",
    "    if val_loss < best_loss:\n",
    "        best_loss = val_loss\n",
    "        j = 0\n",
    "        torch.save(model.state_dict(), model_path)\n",
    "    else:\n",
    "        j += 1\n",
    "\n",
    "   \n",
    "    train_losses.append(train_loss / len(train_loader))\n",
    "    val_losses.append(val_loss / len(val_loader))\n",
    "    print(f\"Epoch {epoch+1}, Train Loss: {train_losses[-1]}, Validation Loss: {val_losses[-1]}\")\n",
    "    scheduler.step()\n",
    "\n",
    "\n",
    "plt.plot(train_losses, label='Train Loss')\n",
    "plt.plot(val_losses, label='Validation Loss')\n",
    "plt.xlabel('Epochs')\n",
    "plt.ylabel('Loss')\n",
    "plt.legend()\n",
    "plt.show()"
   ]
  },
  {
   "cell_type": "markdown",
   "id": "32aff1a4-c0ac-4da2-92f9-14432994439d",
   "metadata": {},
   "source": [
    "### Test"
   ]
  },
  {
   "cell_type": "code",
   "execution_count": 6,
   "id": "f51697b5-2275-4ea4-a43c-2b072ac79ecb",
   "metadata": {},
   "outputs": [
    {
     "name": "stdout",
     "output_type": "stream",
     "text": [
      "model & scaler loaded\n"
     ]
    },
    {
     "name": "stderr",
     "output_type": "stream",
     "text": [
      "/tmp/ipykernel_1087474/1770413205.py:2: FutureWarning: You are using `torch.load` with `weights_only=False` (the current default value), which uses the default pickle module implicitly. It is possible to construct malicious pickle data which will execute arbitrary code during unpickling (See https://github.com/pytorch/pytorch/blob/main/SECURITY.md#untrusted-models for more details). In a future release, the default value for `weights_only` will be flipped to `True`. This limits the functions that could be executed during unpickling. Arbitrary objects will no longer be allowed to be loaded via this mode unless they are explicitly allowlisted by the user via `torch.serialization.add_safe_globals`. We recommend you start setting `weights_only=True` for any use case where you don't have full control of the loaded file. Please open an issue on GitHub for any issues related to this experimental feature.\n",
      "  loaded_model.load_state_dict(torch.load(model_path))\n"
     ]
    }
   ],
   "source": [
    "loaded_model = MSCRED().cuda()\n",
    "loaded_model.load_state_dict(torch.load(model_path))\n",
    "loaded_scaler = joblib.load(scaler_path)\n",
    "print('model & scaler loaded')"
   ]
  },
  {
   "cell_type": "code",
   "execution_count": 9,
   "id": "94727032-a052-4bef-8bcd-00c1099c4da3",
   "metadata": {},
   "outputs": [],
   "source": [
    "import numpy as np\n",
    "import matplotlib.pyplot as plt\n",
    "from sklearn.metrics import roc_auc_score, average_precision_score, accuracy_score, f1_score\n",
    "import torch\n",
    "\n",
    "class AnomalyScoreVisualizer:\n",
    "    def __init__(self, model, threshold=10):\n",
    "        self.model = model\n",
    "        self.threshold = threshold\n",
    "\n",
    "    def test_model(self, test_loader):\n",
    "        print('Predicting...')\n",
    "        outputs = []\n",
    "        true_values = []\n",
    "        with torch.no_grad():\n",
    "            for batch_x in test_loader:\n",
    "                true_values.append(batch_x[1].numpy())\n",
    "                output = self.model(batch_x[0].cuda()).cpu().numpy()\n",
    "                outputs.append(output)\n",
    "        outputs = np.concatenate(outputs, axis=0)\n",
    "        true_values = np.concatenate(true_values, axis=0)\n",
    "        return true_values, outputs\n",
    "\n",
    "    def calculate_anomaly_score(self, true, pred):\n",
    "        residual_matrix = np.abs(true - pred)\n",
    "        anomaly_score = np.sum(residual_matrix > self.threshold, axis=(1, 2, 3))\n",
    "        return anomaly_score, residual_matrix\n",
    "\n",
    "    def find_best_threshold(self, true_labels, anomaly_scores):\n",
    "        thresholds = np.linspace(min(anomaly_scores), max(anomaly_scores), 1000)\n",
    "        best_f1 = 0\n",
    "        best_threshold = self.threshold\n",
    "\n",
    "        for thresh in thresholds:\n",
    "            predicted_labels = (anomaly_scores > thresh).astype(int)\n",
    "            f1 = f1_score(true_labels, predicted_labels)\n",
    "            if f1 > best_f1:\n",
    "                best_f1 = f1\n",
    "                best_threshold = thresh\n",
    "\n",
    "        print(f\"Best Threshold: {best_threshold:.4f}, Best F1-Score: {best_f1:.4f}\")\n",
    "        return best_threshold, best_f1\n",
    "\n",
    "    def evaluate(self, true_labels, anomaly_scores):\n",
    " \n",
    "        if len(anomaly_scores) < len(true_labels):\n",
    "            padding = np.zeros(len(true_labels) - len(anomaly_scores))\n",
    "            anomaly_scores = np.concatenate([padding, anomaly_scores])\n",
    "\n",
    "     \n",
    "        self.threshold, best_f1 = self.find_best_threshold(true_labels, anomaly_scores)\n",
    "\n",
    "        predicted_labels = (anomaly_scores > self.threshold).astype(int)\n",
    "        auroc = roc_auc_score(true_labels, anomaly_scores)\n",
    "        auprc = average_precision_score(true_labels, anomaly_scores)\n",
    "        accuracy = accuracy_score(true_labels, predicted_labels)\n",
    "        f1 = f1_score(true_labels, predicted_labels)\n",
    "\n",
    "        print(f\"AUROC: {auroc:.4f}, AUPRC: {auprc:.4f}, Accuracy: {accuracy:.4f}, F1-Score: {f1:.4f}\")\n",
    "        return auroc, auprc, accuracy, f1\n",
    "\n",
    "    def visualize(self, test_loader, true_labels):\n",
    "        true_values, predictions = self.test_model(test_loader)\n",
    "        anomaly_score, _ = self.calculate_anomaly_score(true_values, predictions)\n",
    "\n",
    "       \n",
    "        if len(anomaly_score) < len(true_labels):\n",
    "            padding = np.zeros(len(true_labels) - len(anomaly_score))\n",
    "            anomaly_score = np.concatenate([padding, anomaly_score])\n",
    "\n",
    "        plt.figure(figsize=(10, 6))\n",
    "        plt.plot(anomaly_score, label='Anomaly Score', color='black')\n",
    "\n",
    "    \n",
    "        anomaly_indices = np.where(true_labels == 1.0)[0]\n",
    "        plt.fill_between(\n",
    "            range(len(true_labels)), 0, max(anomaly_score, default=1),\n",
    "            where=(true_labels == 1.0), color='red', alpha=0.3, label='True Anomalies'\n",
    "        )\n",
    "\n",
    "        plt.title('Anomaly Score Over Time with True Anomalies')\n",
    "        plt.xlabel('Time Step')\n",
    "        plt.ylabel('Anomaly Score')\n",
    "        plt.legend()\n",
    "        plt.grid()\n",
    "        plt.show()\n",
    "\n",
    "        return anomaly_score\n"
   ]
  },
  {
   "cell_type": "code",
   "execution_count": 10,
   "id": "bfd9bd0b-461f-49f4-9d4e-96f939c2cc43",
   "metadata": {},
   "outputs": [
    {
     "name": "stdout",
     "output_type": "stream",
     "text": [
      "Predicting...\n"
     ]
    },
    {
     "data": {
      "image/png": "[encoded data removed]",
      "text/plain": [
       "<Figure size 1000x600 with 1 Axes>"
      ]
     },
     "metadata": {},
     "output_type": "display_data"
    },
    {
     "name": "stdout",
     "output_type": "stream",
     "text": [
      "Best Threshold: 424.4084, Best F1-Score: 0.9984\n",
      "AUROC: 1.0000, AUPRC: 0.9999, Accuracy: 0.9995, F1-Score: 0.9984\n"
     ]
    },
    {
     "data": {
      "text/plain": [
       "(0.9999754337657181,\n",
       " 0.9998882160809142,\n",
       " 0.9994736842105263,\n",
       " 0.9984344783129202)"
      ]
     },
     "execution_count": 10,
     "metadata": {},
     "output_type": "execute_result"
    }
   ],
   "source": [
    "\n",
    "visualizer = AnomalyScoreVisualizer(loaded_model)\n",
    "anomaly_scores = visualizer.visualize(test_loader, test_labels.numpy())\n",
    "visualizer.evaluate(test_labels.numpy(), anomaly_scores)"
   ]
  }
 ],
 "metadata": {
  "kernelspec": {
   "display_name": "Python 3 (ipykernel)",
   "language": "python",
   "name": "python3"
  },
  "language_info": {
   "codemirror_mode": {
    "name": "ipython",
    "version": 3
   },
   "file_extension": ".py",
   "mimetype": "text/x-python",
   "name": "python",
   "nbconvert_exporter": "python",
   "pygments_lexer": "ipython3",
   "version": "3.11.7"
  }
 },
 "nbformat": 4,
 "nbformat_minor": 5
}
